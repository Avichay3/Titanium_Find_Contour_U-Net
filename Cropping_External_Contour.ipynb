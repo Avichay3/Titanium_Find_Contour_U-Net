{
 "cells": [
  {
   "cell_type": "markdown",
   "source": [],
   "metadata": {
    "collapsed": false
   }
  },
  {
   "cell_type": "code",
   "execution_count": 69,
   "metadata": {
    "collapsed": true
   },
   "outputs": [],
   "source": [
    "import tensorflow as tf\n",
    "\n",
    "# load the model\n",
    "model = tf.keras.models.load_model('unet_model')"
   ]
  },
  {
   "cell_type": "code",
   "execution_count": 70,
   "outputs": [],
   "source": [
    "import os\n",
    "\n",
    "data_dir = 'data'\n",
    "mask_dir = \"masks\"\n",
    "test_dir = os.path.join(data_dir, 'test')\n",
    "train_dir = os.path.join(data_dir, 'train')\n",
    "test_masks_dir = os.path.join(mask_dir, 'test')\n",
    "train_masks_dir = os.path.join(mask_dir, 'train')\n"
   ],
   "metadata": {
    "collapsed": false
   }
  },
  {
   "cell_type": "code",
   "execution_count": 71,
   "outputs": [
    {
     "name": "stdout",
     "output_type": "stream",
     "text": [
      "1/1 [==============================] - 1s 540ms/step\n",
      "1/1 [==============================] - 0s 54ms/step\n",
      "1/1 [==============================] - 0s 59ms/step\n",
      "1/1 [==============================] - 0s 66ms/step\n",
      "1/1 [==============================] - 0s 63ms/step\n",
      "1/1 [==============================] - 0s 63ms/step\n",
      "1/1 [==============================] - 0s 73ms/step\n",
      "1/1 [==============================] - 0s 63ms/step\n",
      "1/1 [==============================] - 0s 47ms/step\n",
      "1/1 [==============================] - 0s 65ms/step\n",
      "1/1 [==============================] - 0s 56ms/step\n",
      "1/1 [==============================] - 0s 71ms/step\n",
      "1/1 [==============================] - 0s 62ms/step\n"
     ]
    }
   ],
   "source": [
    "# Run on all images in the test set and save the true and predicted masks, and write the filenames to a text file\n",
    "# Create word document with images and predicted contours\n",
    "import cv2\n",
    "import numpy as np\n",
    "import os\n",
    "import tensorflow as tf\n",
    "from docx import Document\n",
    "from docx.shared import Inches\n",
    "\n",
    "data_dir = 'data'\n",
    "test_dir = os.path.join(data_dir, 'test')\n",
    "train_dir = os.path.join(data_dir, 'train')\n",
    "\n",
    "# Load all images to numpy array to apply model\n",
    "test_images = []\n",
    "for filename in os.listdir(test_dir):\n",
    "    if filename.endswith('.png'):\n",
    "        test_images.append(os.path.join(test_dir, filename))\n",
    "\n",
    "for filename in os.listdir(train_dir):\n",
    "    if filename.endswith('.png'):\n",
    "        test_images.append(os.path.join(train_dir, filename))\n",
    "\n",
    "# Load model\n",
    "model = tf.keras.models.load_model('internal_mask_unet_model')\n",
    "\n",
    "# Create word document\n",
    "document = Document()\n",
    "document.add_heading('Predicted Internal Contours', 0)\n",
    "\n",
    "# Create table with the images, expected masks and predicted contours\n",
    "table = document.add_table(rows=1, cols=3)\n",
    "hdr_cells = table.rows[0].cells\n",
    "hdr_cells[0].text = 'Image'\n",
    "hdr_cells[1].text = 'Expected Mask'\n",
    "hdr_cells[2].text = 'Predicted Mask'\n",
    "\n",
    "# Loop through all images and apply model\n",
    "for directory in [test_dir]:\n",
    "    for file in os.listdir(directory):\n",
    "\n",
    "        img_path = os.path.join(directory, file)\n",
    "        # Load image\n",
    "        img = cv2.imread(img_path)\n",
    "        img = cv2.cvtColor(img, cv2.COLOR_BGR2RGB)\n",
    "        img = cv2.resize(img, (128, 128))\n",
    "        img = img / 255.0\n",
    "        img = np.reshape(img, (1, 128, 128, 3))\n",
    "\n",
    "        # Predict mask\n",
    "        mask = model.predict(img)\n",
    "        mask = np.reshape(mask, (1, 128, 128, 2))\n",
    "        # mask = mask * 255.0\n",
    "        # mask = mask.astype(np.uint8)\n",
    "        mask = tf.argmax(mask, axis=-1)\n",
    "        mask = mask[..., tf.newaxis]\n",
    "        # Reshape mask to 128x128\n",
    "        mask = np.reshape(mask, (128, 128))\n",
    "        mask = mask * 255.0\n",
    "        mask = mask.astype(np.uint8)\n",
    "        os.makedirs('predicted_internal_contours', exist_ok=True)\n",
    "        cv2.imwrite('predicted_internal_contours\\\\' + file, mask)\n",
    "\n",
    "        # Load expected mask\n",
    "        # remove data from path\n",
    "        tmp_directory = directory.replace('data\\\\', '')\n",
    "        mask_path = os.path.join(mask_dir, tmp_directory.split('/')[-1], file)\n",
    "        expected_mask = cv2.imread(mask_path)\n",
    "        expected_mask = cv2.resize(expected_mask, (128, 128))\n",
    "        expected_mask = expected_mask[:, :, 0]\n",
    "        expected_mask = expected_mask.astype(np.uint8)\n",
    "\n",
    "        # Add image, expected mask and predicted mask to table\n",
    "        row_cells = table.add_row().cells\n",
    "         # add file name to each row\n",
    "        row_cells[0].text = file\n",
    "        row_cells[0].add_paragraph().add_run().add_picture(img_path, width=Inches(1.0))\n",
    "        row_cells[1].add_paragraph().add_run().add_picture(mask_path, width=Inches(1.0))\n",
    "        row_cells[2].add_paragraph().add_run().add_picture('predicted_internal_contours/' + file, width=Inches(1.0))\n",
    "\n",
    "# Save word document\n",
    "document.save('predicted_internal_contours.docx')"
   ],
   "metadata": {
    "collapsed": false
   }
  },
  {
   "cell_type": "code",
   "execution_count": 71,
   "outputs": [],
   "source": [],
   "metadata": {
    "collapsed": false
   }
  }
 ],
 "metadata": {
  "kernelspec": {
   "display_name": "Python 3",
   "language": "python",
   "name": "python3"
  },
  "language_info": {
   "codemirror_mode": {
    "name": "ipython",
    "version": 2
   },
   "file_extension": ".py",
   "mimetype": "text/x-python",
   "name": "python",
   "nbconvert_exporter": "python",
   "pygments_lexer": "ipython2",
   "version": "2.7.6"
  }
 },
 "nbformat": 4,
 "nbformat_minor": 0
}
